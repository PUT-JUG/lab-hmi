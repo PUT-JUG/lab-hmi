{
 "cells": [
  {
   "cell_type": "code",
   "execution_count": 13,
   "metadata": {},
   "outputs": [],
   "source": [
    "import pandas as pd\n",
    "import numpy as np\n",
    "import matplotlib.pyplot as plt\n",
    "\n",
    "from sklearn.ensemble import RandomForestClassifier\n",
    "from sklearn.datasets import make_classification\n",
    "from sklearn.cluster import KMeans\n",
    "from sklearn.datasets import make_blobs\n",
    "from sklearn.metrics import confusion_matrix, silhouette_score\n",
    "%matplotlib notebook\n",
    "from sklearn.neural_network import MLPClassifier\n",
    "from sklearn.neighbors import KNeighborsClassifier\n",
    "from sklearn.svm import SVC\n",
    "from sklearn.gaussian_process import GaussianProcessClassifier\n",
    "from sklearn.gaussian_process.kernels import RBF\n",
    "from sklearn.tree import DecisionTreeClassifier\n",
    "from sklearn.ensemble import RandomForestClassifier, AdaBoostClassifier\n",
    "from sklearn.naive_bayes import GaussianNB\n",
    "from sklearn.discriminant_analysis import QuadraticDiscriminantAnalysis\n",
    "from sklearn.discriminant_analysis import LinearDiscriminantAnalysis\n",
    "from sklearn import metrics\n",
    "from sklearn.model_selection import cross_val_score\n",
    "path = '/home/piotr/chmura.put.poznan.pl/Shared/HMI_lab/emg_lab6/'"
   ]
  },
  {
   "cell_type": "code",
   "execution_count": 2,
   "metadata": {},
   "outputs": [],
   "source": [
    "def rms(data, window=500, stride=100, fs=5120,\n",
    "        columns_emg=['EMG_8', 'EMG_9']):  # wartści długości okna i przesunięcia w [ms]\n",
    "    data = data[columns_emg]\n",
    "\n",
    "    windows_rms = []\n",
    "    windows_index = []\n",
    "\n",
    "    for i in range(0, data.shape[0] - int(window / 1000 * fs), int(stride / 1000 * fs)):\n",
    "        window_data = data.iloc[i:i + int(window / 1000 * fs)]\n",
    "\n",
    "        window_mean = np.mean(window_data, axis=0)\n",
    "\n",
    "        window_RMS = np.power(np.subtract(window_data, window_mean), 2)\n",
    "        window_RMS = np.sqrt(window_RMS.sum(axis=0) / int(window / 1000 * fs))\n",
    "\n",
    "        windows_rms.append(window_RMS)\n",
    "\n",
    "        windows_index.append(window_data.index[0])\n",
    "\n",
    "    rms_df = pd.DataFrame(windows_rms)\n",
    "    rms_df.index = windows_index\n",
    "    rms_df.columns = columns_emg\n",
    "\n",
    "    return rms_df\n",
    "\n",
    "\n",
    "def zc(data, threshold: float = 0.1, window: float = 500, stride: float = 100, fs=5120,\n",
    "       columns_emg=['EMG_8', 'EMG_9']):  # wartści długości okna i przesunięci[column columns_emg].iloc[]\n",
    "    data = data[columns_emg]\n",
    "\n",
    "    windows_zc = []\n",
    "    windows_index = []\n",
    "\n",
    "    for i in range(0, data.shape[0] - int(window / 1000 * fs), int(stride / 1000 * fs)):\n",
    "        window_data = data.iloc[i:i + int(window / 1000 * fs)]\n",
    "\n",
    "        window_data = np.subtract(window_data, threshold)\n",
    "        window_count = [len(np.where(np.diff(np.sign(window_data[col].values)))[0]) for col in columns_emg]\n",
    "\n",
    "        windows_zc.append(window_count)\n",
    "\n",
    "        windows_index.append(window_data.index[0])\n",
    "\n",
    "    zc_df = pd.DataFrame(windows_zc)\n",
    "    zc_df.index = windows_index\n",
    "    zc_df.columns = columns_emg\n",
    "\n",
    "    return zc_df"
   ]
  },
  {
   "cell_type": "code",
   "execution_count": 3,
   "metadata": {},
   "outputs": [],
   "source": [
    "def process(data,  columns_emg=['EMG_8', 'EMG_9','EMG_17', 'EMG_10', 'EMG_11', 'EMG_12', 'EMG_13', 'EMG_14', 'EMG_15', 'EMG_16']):\n",
    "    rms_features = rms(data, columns_emg=columns_emg)\n",
    "    zc_features = zc(data, columns_emg=columns_emg)\n",
    "    features = rms_features.join(zc_features, rsuffix='zc_', lsuffix='rms_')\n",
    "    y_true = data.loc[features.index, \"TRAJ_GT\"]\n",
    "    y_true.loc[y_true < 0] = np.nan\n",
    "    nnan_idx = ~np.isnan(y_true)\n",
    "    return features.loc[nnan_idx], y_true[nnan_idx]"
   ]
  },
  {
   "cell_type": "code",
   "execution_count": 4,
   "metadata": {},
   "outputs": [],
   "source": [
    "path = '/home/piotr/chmura.put.poznan.pl/Shared/HMI_lab/emg_lab6/'\n",
    "train = pd.read_hdf(path+'train.hdf5')\n",
    "valid = pd.read_hdf(path+'test.hdf5')\n",
    "\n",
    "train_features, train_labels = process(train)\n",
    "test_features, test_labels = process(valid)"
   ]
  },
  {
   "cell_type": "code",
   "execution_count": 9,
   "metadata": {},
   "outputs": [
    {
     "data": {
      "text/plain": [
       "array([[129, 918,   0,   0,   0,   0,   0,   0],\n",
       "       [ 81,  37,   0,   0,   0,   0,   0,   0],\n",
       "       [ 62,  51,   0,   0,   0,   0,   0,   0],\n",
       "       [ 87,  41,   0,   0,   0,   0,   0,   0],\n",
       "       [ 86,  71,   0,   0,   0,   0,   0,   0],\n",
       "       [ 57,  43,   0,   0,   0,   0,   0,   0],\n",
       "       [ 69,  56,   0,   0,   0,   0,   0,   0],\n",
       "       [ 64,  71,   0,   0,   0,   0,   0,   0]])"
      ]
     },
     "execution_count": 9,
     "metadata": {},
     "output_type": "execute_result"
    }
   ],
   "source": [
    "clusterer = KMeans(n_clusters=2, random_state=0)\n",
    "cluster_labels = clusterer.fit_predict(train_features)\n",
    "confusion_matrix(train_labels, cluster_labels)"
   ]
  },
  {
   "cell_type": "code",
   "execution_count": 7,
   "metadata": {},
   "outputs": [
    {
     "data": {
      "text/plain": [
       "array([[528,  18,  87,  20,  13,  60, 319,   2,   0,   0],\n",
       "       [  6,   0,   2,   0,  75,  11,  24,   0,   0,   0],\n",
       "       [ 32,   0,   6,   2,   7,  10,   8,  48,   0,   0],\n",
       "       [ 23,  78,   8,   0,   0,   5,  14,   0,   0,   0],\n",
       "       [  0,   0,   0,   0,   0,   0,   0,   0,   0,   0],\n",
       "       [  0,   0,   0,   0,   0,   0,   0,   0,   0,   0],\n",
       "       [ 35,   2,  86,   0,   0,   0,  34,   0,   0,   0],\n",
       "       [ 15,   0,  58,   0,   2,   0,  25,   0,   0,   0],\n",
       "       [ 12,   0,  76,   0,   0,   0,  37,   0,   0,   0],\n",
       "       [ 31,   0,  69,   0,   0,   0,  35,   0,   0,   0]])"
      ]
     },
     "execution_count": 7,
     "metadata": {},
     "output_type": "execute_result"
    }
   ],
   "source": [
    "clusterer = KMeans(n_clusters=8, random_state=0)\n",
    "cluster_labels = clusterer.fit_predict(train_features)\n",
    "confusion_matrix(train_labels, cluster_labels)"
   ]
  },
  {
   "cell_type": "code",
   "execution_count": 16,
   "metadata": {},
   "outputs": [
    {
     "name": "stderr",
     "output_type": "stream",
     "text": [
      "/home/piotr/anaconda3/lib/python3.8/site-packages/sklearn/metrics/_classification.py:1221: UndefinedMetricWarning: Precision is ill-defined and being set to 0.0 in labels with no predicted samples. Use `zero_division` parameter to control this behavior.\n",
      "  _warn_prf(average, modifier, msg_start, len(result))\n"
     ]
    },
    {
     "name": "stdout",
     "output_type": "stream",
     "text": [
      "precision mean: 0.7327802844363085 std:  0.11961392975304842\n"
     ]
    },
    {
     "name": "stderr",
     "output_type": "stream",
     "text": [
      "/home/piotr/anaconda3/lib/python3.8/site-packages/sklearn/metrics/_classification.py:1221: UndefinedMetricWarning: Precision is ill-defined and being set to 0.0 in labels with no predicted samples. Use `zero_division` parameter to control this behavior.\n",
      "  _warn_prf(average, modifier, msg_start, len(result))\n"
     ]
    },
    {
     "name": "stdout",
     "output_type": "stream",
     "text": [
      "precision mean: 0.6075701062308845 std:  0.08570707880306352\n",
      "precision mean: 0.6768755454017032 std:  0.10900331823059634\n"
     ]
    }
   ],
   "source": [
    "names = [ \"Random Forest\", \"LDA\", \"Neural Net\"]\n",
    "classifiers = [    \n",
    "    RandomForestClassifier(n_estimators=100, random_state = 0),\n",
    "    MLPClassifier(alpha=0.9, max_iter=1000, random_state = 0),\n",
    "    LinearDiscriminantAnalysis()\n",
    "   ]\n",
    "\n",
    "for name, clf in zip(names, classifiers):\n",
    "      scores = cross_val_score(clf, train_features, train_labels, cv=5,  scoring='precision_macro')\n",
    "      print('precision mean:', np.mean(scores), \"std: \", np.std(scores))"
   ]
  }
 ],
 "metadata": {
  "kernelspec": {
   "display_name": "Python 3",
   "language": "python",
   "name": "python3"
  },
  "language_info": {
   "codemirror_mode": {
    "name": "ipython",
    "version": 3
   },
   "file_extension": ".py",
   "mimetype": "text/x-python",
   "name": "python",
   "nbconvert_exporter": "python",
   "pygments_lexer": "ipython3",
   "version": "3.8.1"
  }
 },
 "nbformat": 4,
 "nbformat_minor": 4
}
